{
 "cells": [
  {
   "cell_type": "markdown",
   "metadata": {},
   "source": [
    "# Import"
   ]
  },
  {
   "cell_type": "code",
   "execution_count": 1,
   "metadata": {},
   "outputs": [],
   "source": [
    "import os\n",
    "\n",
    "from utils.logger import Logger\n",
    "from utils.utils import print_dict"
   ]
  },
  {
   "cell_type": "markdown",
   "metadata": {},
   "source": [
    "# Comparison models"
   ]
  },
  {
   "cell_type": "code",
   "execution_count": 21,
   "metadata": {
    "scrolled": false
   },
   "outputs": [
    {
     "data": {
      "text/html": [
       "<div>\n",
       "<style scoped>\n",
       "    .dataframe tbody tr th:only-of-type {\n",
       "        vertical-align: middle;\n",
       "    }\n",
       "\n",
       "    .dataframe tbody tr th {\n",
       "        vertical-align: top;\n",
       "    }\n",
       "\n",
       "    .dataframe thead th {\n",
       "        text-align: right;\n",
       "    }\n",
       "</style>\n",
       "<table border=\"1\" class=\"dataframe\">\n",
       "  <thead>\n",
       "    <tr style=\"text-align: right;\">\n",
       "      <th>Method</th>\n",
       "      <th>S01</th>\n",
       "      <th>S02</th>\n",
       "      <th>S03</th>\n",
       "      <th>S04</th>\n",
       "      <th>S05</th>\n",
       "      <th>S06</th>\n",
       "      <th>S07</th>\n",
       "      <th>S08</th>\n",
       "      <th>S09</th>\n",
       "      <th>Mean</th>\n",
       "      <th>Sub-dir</th>\n",
       "    </tr>\n",
       "  </thead>\n",
       "  <tbody>\n",
       "    <tr>\n",
       "      <th>BCI-2021</th>\n",
       "      <td>97.92</td>\n",
       "      <td>71.53</td>\n",
       "      <td>97.22</td>\n",
       "      <td>84.72</td>\n",
       "      <td>72.92</td>\n",
       "      <td>74.31</td>\n",
       "      <td>99.31</td>\n",
       "      <td>84.03</td>\n",
       "      <td>97.22</td>\n",
       "      <td>86.58</td>\n",
       "      <td>3</td>\n",
       "    </tr>\n",
       "  </tbody>\n",
       "</table>\n",
       "</div>"
      ],
      "text/plain": [
       "Method      S01    S02    S03    S04    S05    S06    S07    S08    S09   Mean  Sub-dir\n",
       "BCI-2021  97.92  71.53  97.22  84.72  72.92  74.31  99.31  84.03  97.22  86.58        3"
      ]
     },
     "metadata": {},
     "output_type": "display_data"
    },
    {
     "name": "stdout",
     "output_type": "stream",
     "text": [
      "model: bci2021\n",
      "metrics: ['loss', 'acc']\n",
      "batch_size: 144\n",
      "epochs: 400\n",
      "opt: Adam\n",
      "lr: 0.0001\n",
      "wd: 0\n",
      "scheduler: exp\n",
      "gamma: 0.993\n",
      "\n"
     ]
    }
   ],
   "source": [
    "save_dir = \"./result/train\"\n",
    "logger = Logger(save_dir)\n",
    "\n",
    "# Set models\n",
    "models = {3: 'BCI-2021'}\n",
    "\n",
    "# Show accuracy table\n",
    "display(logger.make_acc_table(models, phase='val'))\n",
    "\n",
    "# Set args\n",
    "args = [\n",
    "    'model', 'metrics', 'batch_size', 'epochs', 'opt', 'lr', 'wd', 'scheduler',\n",
    "    'gamma'\n",
    "]\n",
    "\n",
    "# Set sub-directory matching model\n",
    "sub_dir = 3\n",
    "\n",
    "# Show args\n",
    "print_dict(logger.get_options(sub_dir=sub_dir, target_args=args))"
   ]
  },
  {
   "cell_type": "markdown",
   "metadata": {},
   "source": [
    "# Plot"
   ]
  },
  {
   "cell_type": "code",
   "execution_count": 20,
   "metadata": {
    "scrolled": false
   },
   "outputs": [
    {
     "data": {
      "application/vnd.jupyter.widget-view+json": {
       "model_id": "ed3adeae55ab45b28717df957c8db5fa",
       "version_major": 2,
       "version_minor": 0
      },
      "text/plain": [
       "interactive(children=(IntSlider(value=1, description='idx', max=9, min=1), Output()), _dom_classes=('widget-in…"
      ]
     },
     "metadata": {},
     "output_type": "display_data"
    },
    {
     "name": "stdout",
     "output_type": "stream",
     "text": [
      "model: bci2021\n",
      "metrics: ['loss', 'acc']\n",
      "batch_size: 144\n",
      "epochs: 400\n",
      "opt: Adam\n",
      "lr: 0.0001\n",
      "wd: 0\n",
      "scheduler: exp\n",
      "gamma: 0.993\n",
      "\n"
     ]
    }
   ],
   "source": [
    "save_path = \"./result/train\"\n",
    "sub_dir = 3\n",
    "\n",
    "Logger.plot_slider(os.path.join(save_path, str(sub_dir)),\n",
    "                   phase=['train', 'val'])\n",
    "\n",
    "# Set args\n",
    "args = [\n",
    "    'model', 'metrics', 'batch_size', 'epochs', 'opt', 'lr', 'wd', 'scheduler',\n",
    "    'gamma'\n",
    "]\n",
    "\n",
    "# Show args\n",
    "print_dict(logger.get_options(sub_dir=sub_dir, target_args=args))"
   ]
  }
 ],
 "metadata": {
  "kernelspec": {
   "display_name": "ko",
   "language": "python",
   "name": "ko"
  },
  "language_info": {
   "codemirror_mode": {
    "name": "ipython",
    "version": 3
   },
   "file_extension": ".py",
   "mimetype": "text/x-python",
   "name": "python",
   "nbconvert_exporter": "python",
   "pygments_lexer": "ipython3",
   "version": "3.7.10"
  },
  "toc": {
   "base_numbering": 1,
   "nav_menu": {},
   "number_sections": true,
   "sideBar": true,
   "skip_h1_title": false,
   "title_cell": "Table of Contents",
   "title_sidebar": "Contents",
   "toc_cell": false,
   "toc_position": {
    "height": "calc(100% - 180px)",
    "left": "10px",
    "top": "150px",
    "width": "206.796875px"
   },
   "toc_section_display": true,
   "toc_window_display": true
  }
 },
 "nbformat": 4,
 "nbformat_minor": 4
}
